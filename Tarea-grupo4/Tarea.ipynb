{
  "nbformat": 4,
  "nbformat_minor": 0,
  "metadata": {
    "colab": {
      "name": "Tarea.ipynb",
      "provenance": [],
      "authorship_tag": "ABX9TyOyj2Je27nFt86K6aHFkTnk",
      "include_colab_link": true
    },
    "kernelspec": {
      "name": "python3",
      "display_name": "Python 3"
    },
    "language_info": {
      "name": "python"
    }
  },
  "cells": [
    {
      "cell_type": "markdown",
      "metadata": {
        "id": "view-in-github",
        "colab_type": "text"
      },
      "source": [
        "<a href=\"https://colab.research.google.com/github/danvargasgo/Repositorio_Algoritmos/blob/main/Tarea-grupo4/Tarea.ipynb\" target=\"_parent\"><img src=\"https://colab.research.google.com/assets/colab-badge.svg\" alt=\"Open In Colab\"/></a>"
      ]
    },
    {
      "cell_type": "code",
      "execution_count": 4,
      "metadata": {
        "id": "NfQfAp8_B6ud"
      },
      "outputs": [],
      "source": [
        "# Python program to demonstrate searching operation\n",
        "# in binary search tree without recursion\n",
        "class newNode:\n",
        "\n",
        "    # Constructor to create a new node\n",
        "    def __init__(self, data):\n",
        "        self.data = data\n",
        "        self.left = None\n",
        "        self.right = None\n",
        "\n",
        "\n",
        "# Function to check the given\n",
        "# key exist or not\n",
        "def iterativeSearch(root, key, ruta):\n",
        "    # Traverse until root reaches\n",
        "    # to dead end\n",
        "    while root is not None:\n",
        "        print(root.data)\n",
        "        # pass right subtree as new tree\n",
        "        if key > root.data:\n",
        "            ruta.append(\"Derecha\")\n",
        "            root = root.right\n",
        "            print(\"\\\\\")\t\t# Imprime la direccion derecha o izq por la que se mueve para buscar un valor\n",
        "\n",
        "    # pass left subtree as new tree\n",
        "        elif key < root.data:\n",
        "            ruta.append(\"Izquierda\")\n",
        "            root = root.left\n",
        "            print(\"/\")  # Imprime la direccion derecha o izq por la que se mueve para buscar un valor\n",
        "\n",
        "        else:\n",
        "            return True  # if the key is found return 1\n",
        "            return False\n",
        "\n",
        "\n",
        "# A utility function to insert a\n",
        "# new Node with given key in BST\n",
        "def insert(Node, data):\n",
        "    # If the tree is empty, return\n",
        "    # a new Node\n",
        "    if Node == None:\n",
        "        return newNode(data)\n",
        "\n",
        "    # Otherwise, recur down the tree\n",
        "    if data < Node.data:\n",
        "        Node.left = insert(Node.left, data)\n",
        "    elif data > Node.data:\n",
        "        Node.right = insert(Node.right, data)\n",
        "\n",
        "    # return the (unchanged) Node pointer\n",
        "    return Node\n"
      ]
    },
    {
      "cell_type": "code",
      "source": [
        "root = insert(None, int(input(\"Ingrese el valor raíz para la generación del árbol binario: \")))\n",
        "c = 0\n",
        "cantidad = int(input(\"Cantidad de nodos para la generación del árbol binario: \"))\n",
        "while (c < cantidad - 1):\n",
        "  insert(root, int(input(\"Ingrese el valor ({}): \".format(c + 1))))\n",
        "  c += 1\n",
        "busqueda = int(input(\"Ingrese el valor de búsqueda: \"))\n",
        "print()\n",
        "\n",
        "ruta = []\n",
        "busquedaIterativa = iterativeSearch(root, busqueda, ruta)\n",
        "print()\n",
        "print(\"La ruta del valor buscado desde el origen es: \")\n",
        "for i in ruta:\n",
        "  print(i, end=\"  \")\n",
        "print()\n",
        "print()\n",
        "if (busquedaIterativa):\n",
        "  print(\"El valor sí se encuentra\")\n",
        "else:\n",
        "  print(\"El valor no se encuentra\")"
      ],
      "metadata": {
        "colab": {
          "base_uri": "https://localhost:8080/"
        },
        "id": "UT30nsMWCNJy",
        "outputId": "87a4cdec-922b-4ede-bb8f-e977378488c3"
      },
      "execution_count": 7,
      "outputs": [
        {
          "output_type": "stream",
          "name": "stdout",
          "text": [
            "Ingrese el valor raíz para la generación del árbol binario: 50\n",
            "Cantidad de nodos para la generación del árbol binario: 7\n",
            "Ingrese el valor (1): 30\n",
            "Ingrese el valor (2): 70\n",
            "Ingrese el valor (3): 20\n",
            "Ingrese el valor (4): 40\n",
            "Ingrese el valor (5): 60\n",
            "Ingrese el valor (6): 80\n",
            "Ingrese el valor de búsqueda: 40\n",
            "\n",
            "50\n",
            "/\n",
            "30\n",
            "\\\n",
            "40\n",
            "\n",
            "La ruta del valor buscado desde el origen es: \n",
            "Izquierda  Derecha  \n",
            "\n",
            "El valor sí se encuentra\n"
          ]
        }
      ]
    }
  ]
}