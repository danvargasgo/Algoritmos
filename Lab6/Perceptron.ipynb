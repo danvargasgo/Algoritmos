{
  "nbformat": 4,
  "nbformat_minor": 0,
  "metadata": {
    "colab": {
      "name": "Copy of Perceptron.ipynb",
      "provenance": [],
      "collapsed_sections": [],
      "include_colab_link": true
    },
    "kernelspec": {
      "name": "python3",
      "display_name": "Python 3"
    }
  },
  "cells": [
    {
      "cell_type": "markdown",
      "metadata": {
        "id": "view-in-github",
        "colab_type": "text"
      },
      "source": [
        "<a href=\"https://colab.research.google.com/github/danvargasgo/Repositorio_Algoritmos/blob/main/Lab6/Perceptron.ipynb\" target=\"_parent\"><img src=\"https://colab.research.google.com/assets/colab-badge.svg\" alt=\"Open In Colab\"/></a>"
      ]
    },
    {
      "cell_type": "markdown",
      "metadata": {
        "id": "reYDmt-F7gkw"
      },
      "source": [
        "# Perceptron simple\n",
        "\n",
        "\n"
      ]
    },
    {
      "cell_type": "code",
      "metadata": {
        "id": "uNauKEQO5Pdp"
      },
      "source": [
        "import numpy as np \n",
        "import matplotlib.pyplot as plt\n",
        "import pandas as pd \n",
        "import random\n",
        "from google.colab import files\n",
        "pd.set_option('display.max_columns', 500)"
      ],
      "execution_count": null,
      "outputs": []
    },
    {
      "cell_type": "markdown",
      "metadata": {
        "id": "a0bfDIBy7VPU"
      },
      "source": [
        "# Definición de la clase perceptron \n",
        "\n"
      ]
    },
    {
      "cell_type": "code",
      "metadata": {
        "id": "AMCVlwNe5Zeo"
      },
      "source": [
        "class Perceptron:\n",
        "    def __init__(self, eta=0.1, n_iter=10):\n",
        "        self.eta = float(eta)\n",
        "        self.n_iter = n_iter\n",
        "\n",
        "    def train(self, X, y):\n",
        "        # inicializar los pesos en 0\n",
        "        self.w = np.zeros(len(X[1])+1)\n",
        "        #vector de errores acumulados\n",
        "        self.errors = []\n",
        "\n",
        "        #ciclo de entrenamiento\n",
        "        for i in range(self.n_iter):\n",
        "            errors = 0\n",
        "            for x_i, target in zip(X,y):\n",
        "                #calcular el nuevo valor de los pesos\n",
        "                delta_w = np.array((target - self.predict(x_i)) * self.eta)\n",
        "                #actualizar el valor de los pesos\n",
        "                self.w[1:] += delta_w * x_i\n",
        "                #actualizar el valor del bias\n",
        "                self.w[0] += delta_w\n",
        "                if (delta_w!=0):\n",
        "                    errors += 1\n",
        "            self.errors.append(errors)\n",
        " \n",
        "\n",
        "    def predict(self, X):\n",
        "        #combinacion lineal, w[0] = bias\n",
        "        v = np.dot( X, self.w [1:]) + self.w[0]\n",
        "        #funcion de activación \n",
        "        if v > 0.0:\n",
        "            return 1\n",
        "        return -1"
      ],
      "execution_count": null,
      "outputs": []
    },
    {
      "cell_type": "code",
      "metadata": {
        "id": "oqIom1Bl65Tj",
        "outputId": "c29ba68e-44f3-4c5f-a1d2-321eac456732",
        "colab": {
          "base_uri": "https://localhost:8080/",
          "height": 73,
          "resources": {
            "http://localhost:8080/nbextensions/google.colab/files.js": {
              "data": "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",
              "ok": true,
              "headers": [
                [
                  "content-type",
                  "application/javascript"
                ]
              ],
              "status": 200,
              "status_text": ""
            }
          }
        }
      },
      "source": [
        "#cargar los archivos de los dataset de cáncer de mama\n",
        "files.upload();"
      ],
      "execution_count": null,
      "outputs": [
        {
          "output_type": "display_data",
          "data": {
            "text/plain": [
              "<IPython.core.display.HTML object>"
            ],
            "text/html": [
              "\n",
              "     <input type=\"file\" id=\"files-6a05fa33-0691-4891-8771-72aaecc384e0\" name=\"files[]\" multiple disabled\n",
              "        style=\"border:none\" />\n",
              "     <output id=\"result-6a05fa33-0691-4891-8771-72aaecc384e0\">\n",
              "      Upload widget is only available when the cell has been executed in the\n",
              "      current browser session. Please rerun this cell to enable.\n",
              "      </output>\n",
              "      <script src=\"/nbextensions/google.colab/files.js\"></script> "
            ]
          },
          "metadata": {}
        },
        {
          "output_type": "stream",
          "name": "stdout",
          "text": [
            "Saving wdbc.data to wdbc.data\n"
          ]
        }
      ]
    },
    {
      "cell_type": "markdown",
      "metadata": {
        "id": "NNTsqos28KGF"
      },
      "source": [
        "# Leer el dataset Cáncer de mama\n",
        "\n",
        "\n",
        "El dataset esta disponible en https://archive.ics.uci.edu/ml/datasets/Breast+Cancer+Wisconsin+(Diagnostic)\n"
      ]
    },
    {
      "cell_type": "code",
      "metadata": {
        "id": "cJEGWWyq5fAN",
        "outputId": "4e2f6e83-609e-4d8c-86ca-6142279ae3da",
        "colab": {
          "base_uri": "https://localhost:8080/"
        }
      },
      "source": [
        "#Leer los datos del archivo\n",
        "df = pd.read_csv('wdbc.data', sep=\",\", header=None)\n",
        "df = df.sort_values(df.columns[1])\n",
        "df = df.reset_index(drop=True)\n",
        "for i in df.index:\n",
        "  if df[1][i] == 'M':\n",
        "    print(i)\n",
        "    break\n",
        "#tomar 100 filas, las columnas textura y perímetro\n",
        "BC_df = df[307:408][[3,4]]\n",
        "#tomar la columna Diagnosis como 1 para maligno y -1 para benigno\n",
        "y_BC = df[307:408][[1]]\n",
        "BC_df = np.array(BC_df, float)\n",
        "y_BC = np.where(y_BC == 'M', 1, -1)\n",
        "\n",
        "print(\"Primeros valores del dataset\")\n",
        "#M comienza desde 357\n",
        "print(df.head(500))\n"
      ],
      "execution_count": null,
      "outputs": [
        {
          "output_type": "stream",
          "name": "stdout",
          "text": [
            "357\n",
            "Primeros valores del dataset\n",
            "           0  1      2      3       4       5        6        7        8   \\\n",
            "0     8912284  B  12.89  15.70   84.08   516.6  0.07818  0.09580  0.11150   \n",
            "1     9012568  B  15.19  13.21   97.65   711.8  0.07963  0.06934  0.03393   \n",
            "2     9011495  B  12.21  18.02   78.31   458.4  0.09231  0.07175  0.04392   \n",
            "3     9010877  B  13.40  16.95   85.48   552.4  0.07937  0.05696  0.02181   \n",
            "4     9010872  B  16.50  18.29  106.60   838.1  0.09686  0.08468  0.05862   \n",
            "..        ... ..    ...    ...     ...     ...      ...      ...      ...   \n",
            "495    888570  M  17.29  22.13  114.40   947.8  0.08999  0.12730  0.09697   \n",
            "496    889403  M  15.61  19.38  100.00   758.6  0.07840  0.05616  0.04209   \n",
            "497    889719  M  17.19  22.07  111.60   928.3  0.09726  0.08995  0.09061   \n",
            "498  88995002  M  20.73  31.12  135.70  1419.0  0.09469  0.11430  0.13670   \n",
            "499   8812877  M  15.75  20.25  102.60   761.3  0.10250  0.12040  0.11470   \n",
            "\n",
            "          9       10       11      12      13     14      15        16  \\\n",
            "0    0.03390  0.1432  0.05935  0.2913  1.3890  2.347   23.29  0.006418   \n",
            "1    0.02657  0.1721  0.05544  0.1783  0.4125  1.338   17.72  0.005012   \n",
            "2    0.02027  0.1695  0.05916  0.2527  0.7786  1.874   18.57  0.005833   \n",
            "3    0.01473  0.1650  0.05701  0.1584  0.6124  1.036   13.22  0.004394   \n",
            "4    0.04835  0.1495  0.05593  0.3389  1.4390  2.344   33.58  0.007257   \n",
            "..       ...     ...      ...     ...     ...    ...     ...       ...   \n",
            "495  0.07507  0.2108  0.05464  0.8348  1.6330  6.146   90.94  0.006717   \n",
            "496  0.02847  0.1547  0.05443  0.2298  0.9988  1.534   22.18  0.002826   \n",
            "497  0.06527  0.1867  0.05580  0.4203  0.7383  2.819   45.42  0.004493   \n",
            "498  0.08646  0.1769  0.05674  1.1720  1.6170  7.749  199.70  0.004551   \n",
            "499  0.06462  0.1935  0.06303  0.3473  0.9209  2.244   32.19  0.004766   \n",
            "\n",
            "           17       18        19       20        21     22     23      24  \\\n",
            "0    0.039610  0.07927  0.017740  0.01878  0.003696  13.90  19.69   92.12   \n",
            "1    0.014850  0.01551  0.009155  0.01647  0.001767  16.20  15.73  104.50   \n",
            "2    0.013880  0.02000  0.007087  0.01938  0.001960  14.29  24.04   93.85   \n",
            "3    0.012500  0.01451  0.005484  0.01291  0.002074  14.73  21.70   93.76   \n",
            "4    0.018050  0.01832  0.010330  0.01694  0.002001  18.13  25.45  117.20   \n",
            "..        ...      ...       ...      ...       ...    ...    ...     ...   \n",
            "495  0.059810  0.04638  0.021490  0.02747  0.005838  20.39  27.24  137.90   \n",
            "496  0.009105  0.01311  0.005174  0.01013  0.001345  17.91  31.67  115.90   \n",
            "497  0.012060  0.02048  0.009875  0.01144  0.001575  21.58  29.33  140.50   \n",
            "498  0.014780  0.02143  0.009280  0.01367  0.002299  32.49  47.16  214.00   \n",
            "499  0.023740  0.02384  0.008637  0.01772  0.003131  19.56  30.29  125.90   \n",
            "\n",
            "         25       26      27      28       29      30       31  \n",
            "0     595.6  0.09926  0.2317  0.3344  0.10170  0.1999  0.07127  \n",
            "1     819.1  0.11260  0.1737  0.1362  0.08178  0.2487  0.06766  \n",
            "2     624.6  0.13680  0.2170  0.2413  0.08829  0.3218  0.07470  \n",
            "3     663.5  0.12130  0.1676  0.1364  0.06987  0.2741  0.07582  \n",
            "4    1009.0  0.13380  0.1679  0.1663  0.09123  0.2394  0.06469  \n",
            "..      ...      ...     ...     ...      ...     ...      ...  \n",
            "495  1295.0  0.11340  0.2867  0.2298  0.15280  0.3067  0.07484  \n",
            "496   988.6  0.10840  0.1807  0.2260  0.08568  0.2683  0.06829  \n",
            "497  1436.0  0.15580  0.2567  0.3889  0.19840  0.3216  0.07570  \n",
            "498  3432.0  0.14010  0.2644  0.3442  0.16590  0.2868  0.08218  \n",
            "499  1088.0  0.15520  0.4480  0.3976  0.14790  0.3993  0.10640  \n",
            "\n",
            "[500 rows x 32 columns]\n"
          ]
        }
      ]
    },
    {
      "cell_type": "markdown",
      "metadata": {
        "id": "BjHC9QpG-Do5"
      },
      "source": [
        "# Selección de datos"
      ]
    },
    {
      "cell_type": "code",
      "metadata": {
        "id": "mHFvrz29-HpC",
        "outputId": "fd4b115c-8498-4a28-da66-2c25a8620241",
        "colab": {
          "base_uri": "https://localhost:8080/",
          "height": 297
        }
      },
      "source": [
        "plt.scatter(BC_df[:50, 0], BC_df[:50, 1], color='green', marker='+', label='tumor benigno')\n",
        "plt.scatter(BC_df[50:, 0], BC_df[50:, 1], color='blue', marker='x', label='tumor maligno')\n",
        "plt.xlabel('Textura (desviación estandar de valores de escala de grises)')\n",
        "plt.ylabel('Perímetro mm')\n",
        "plt.legend(loc='upper left')\n",
        "\n",
        "plt.tight_layout()\n",
        "plt.show()"
      ],
      "execution_count": null,
      "outputs": [
        {
          "output_type": "display_data",
          "data": {
            "text/plain": [
              "<Figure size 432x288 with 1 Axes>"
            ],
            "image/png": "[encoded data removed]"
          },
          "metadata": {
            "needs_background": "light"
          }
        }
      ]
    },
    {
      "cell_type": "markdown",
      "metadata": {
        "id": "Bs_MoHcx-g4G"
      },
      "source": [
        "Como se puede ver en la gráfica los datos petal length y cepal length son linealmente diferenciables entonces se pueden usar estos datos."
      ]
    },
    {
      "cell_type": "markdown",
      "metadata": {
        "id": "YF5fxQEU9NVY"
      },
      "source": [
        "# Entrenamiento del perceptron\n",
        "\n",
        "Se toma el 80% del dataset para entrenar el perceptron.\n",
        "\n"
      ]
    },
    {
      "cell_type": "code",
      "metadata": {
        "id": "-poImdxBAMQg",
        "outputId": "df10dc70-e5c0-4897-d068-383127c37631",
        "colab": {
          "base_uri": "https://localhost:8080/",
          "height": 297
        }
      },
      "source": [
        "#tomar el 80 % del dataset para el entrenamiento\n",
        "X_training = np.concatenate((BC_df[:40],BC_df[50:90]),axis=0)\n",
        "y_training = np.concatenate((y_BC[:40],y_BC[50:90]),axis=0)\n",
        "#entrenar el perceptron\n",
        "perceptron = Perceptron(2, 40)\n",
        "perceptron.train(X_training, y_training)\n",
        "\n",
        "plt.plot(range(1, len(perceptron.errors) + 1), perceptron.errors, marker='o')\n",
        "plt.xlabel('Iteración')\n",
        "plt.ylabel('Número de actualizaciones')\n",
        "\n",
        "plt.tight_layout()\n",
        "plt.show()"
      ],
      "execution_count": null,
      "outputs": [
        {
          "output_type": "display_data",
          "data": {
            "text/plain": [
              "<Figure size 432x288 with 1 Axes>"
            ],
            "image/png": "[encoded data removed]"
          },
          "metadata": {
            "needs_background": "light"
          }
        }
      ]
    },
    {
      "cell_type": "markdown",
      "metadata": {
        "id": "SOg23t6dAgYy"
      },
      "source": [
        "# Prueba del perceptron\n",
        "Se toma el 20% restante del dataset para probar el perceptron"
      ]
    },
    {
      "cell_type": "code",
      "metadata": {
        "id": "mIEwfhPyApwv",
        "outputId": "77173105-b319-47c0-a558-a64f0cec78e2",
        "colab": {
          "base_uri": "https://localhost:8080/"
        }
      },
      "source": [
        "#Tomar el 20% restante del dataset para probar el perceptron\n",
        "X_test = np.concatenate((BC_df[41:50],BC_df[91:]),axis=0)\n",
        "y_test = np.concatenate((y_BC[41:50],y_BC[91:]),axis=0)\n",
        "\n",
        "#calcular los errores en la clasificacion \n",
        "error = 0\n",
        "for i in range(0,len(X_test)):\n",
        "    if perceptron.predict(X_test[i]) != y_test[i]:\n",
        "        error += 1 \n",
        "error = error / len(X_test) * 100\n",
        "print(\"error = {}%\".format(error))"
      ],
      "execution_count": null,
      "outputs": [
        {
          "output_type": "stream",
          "name": "stdout",
          "text": [
            "error = 47.368421052631575%\n"
          ]
        }
      ]
    },
    {
      "cell_type": "markdown",
      "metadata": {
        "id": "y6kpcqW8NF3k"
      },
      "source": [
        "El perceptron simple presentó un 53% de exactitud.\n",
        "\n"
      ]
    },
    {
      "cell_type": "markdown",
      "metadata": {
        "id": "cNl5zniX9O8l"
      },
      "source": [
        "# Referencias\n",
        "\n",
        "https://www.llipe.com/2017/04/19/programando-un-clasificador-perceptron-en-python/\n",
        "https://machinelearningmastery.com/standard-machine-learning-datasets/\n",
        "\n"
      ]
    }
  ]
}