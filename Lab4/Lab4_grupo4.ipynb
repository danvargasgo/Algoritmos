{
  "nbformat": 4,
  "nbformat_minor": 0,
  "metadata": {
    "colab": {
      "name": "Lab4_grupo4.ipynb",
      "provenance": [],
      "collapsed_sections": [],
      "include_colab_link": true
    },
    "kernelspec": {
      "name": "python3",
      "display_name": "Python 3"
    },
    "language_info": {
      "name": "python"
    }
  },
  "cells": [
    {
      "cell_type": "markdown",
      "metadata": {
        "id": "view-in-github",
        "colab_type": "text"
      },
      "source": [
        "<a href=\"https://colab.research.google.com/github/danvargasgo/Repositorio_Algoritmos/blob/main/Lab4/Lab4_grupo4.ipynb\" target=\"_parent\"><img src=\"https://colab.research.google.com/assets/colab-badge.svg\" alt=\"Open In Colab\"/></a>"
      ]
    },
    {
      "cell_type": "markdown",
      "source": [
        "## Algoritmo por fuerza bruta."
      ],
      "metadata": {
        "id": "6bUqbNCSopzZ"
      }
    },
    {
      "cell_type": "code",
      "source": [
        "import timeit\n",
        "\n",
        "def eval(x):\n",
        "    y = x**5-59*x**4+35*x**3-250*x**2+x-70\n",
        "    return y\n"
      ],
      "metadata": {
        "id": "uPKzUxzhphAt"
      },
      "execution_count": 1,
      "outputs": []
    },
    {
      "cell_type": "code",
      "source": [
        "\n",
        "def fuerza_bruta():\n",
        "    inicio = timeit.default_timer()\n",
        "    error = 0.0001                                      #error de y\n",
        "    x0 = -1000\n",
        "    x1 = -999\n",
        "    y0 = eval(x0)\n",
        "    y1 = eval(x1)\n",
        "    aumentador = 1                                      #tamaño del paso inicial\n",
        "    cont = 0\n",
        "    while abs(y1) > error and x1 <= 1000:\n",
        "        if (y0 < 0 and y1 > 0) or (y0 > 0 and y1 < 0):  #búsqueda de cambio de signo\n",
        "            aumentador *= 10 ** -1                      #cambio en el tamaño del paso\n",
        "            x1 = x0 + aumentador                        #actualización del rango\n",
        "        else:\n",
        "            x0 += aumentador                            #actualización del rango\n",
        "            x1 += aumentador\n",
        "        y0 = eval(x0)\n",
        "        y1 = eval(x1)\n",
        "        cont += 1                                       #conteo de iteraciones\n",
        "    fin = timeit.default_timer()\n",
        "    print(\"Raíz aproximada:\", str(x1))\n",
        "    print(\"f(raíz):\", str(y1))\n",
        "    print(\"Iteraciones:\", str(cont))\n",
        "    print(\"Tiempo:\", fin-inicio, 'segundos')"
      ],
      "metadata": {
        "id": "03pbsX1uohMz"
      },
      "execution_count": 3,
      "outputs": []
    },
    {
      "cell_type": "code",
      "source": [
        "fuerza_bruta()"
      ],
      "metadata": {
        "colab": {
          "base_uri": "https://localhost:8080/"
        },
        "id": "hp12RIsaqL2S",
        "outputId": "c068eefd-50de-4a46-c417-8ae1092f495c"
      },
      "execution_count": 4,
      "outputs": [
        {
          "output_type": "stream",
          "name": "stdout",
          "text": [
            "Raíz aproximada: 58.47456506631999\n",
            "f(raíz): 6.806377427892585e-06\n",
            "Iteraciones: 1116\n",
            "Tiempo: 0.004139746000006994 segundos\n"
          ]
        }
      ]
    },
    {
      "cell_type": "markdown",
      "source": [
        "## Algoritmo voraz basado en el método de Newton Raphson para aproximar raíces del polinomio dado."
      ],
      "metadata": {
        "id": "mz2PFFztnxDW"
      }
    },
    {
      "cell_type": "code",
      "execution_count": 5,
      "metadata": {
        "id": "hr9aRSrMni0U",
        "colab": {
          "base_uri": "https://localhost:8080/"
        },
        "outputId": "99187162-d651-469b-9339-0082f3a816e2"
      },
      "outputs": [
        {
          "output_type": "stream",
          "name": "stdout",
          "text": [
            "Digite cualquier número para comenzar a buscar raíces: 0\n",
            "La precisión es: 100.0\n",
            "La precisión es: 11.014037189862787\n",
            "La precisión es: 5.962268752725965\n",
            "La precisión es: 1.6491393231995284\n",
            "La precisión es: 0.11425266207119095\n",
            "La precisión es: 0.0005247937193087288\n",
            "La precisión es: 1.1034510017647138e-08\n",
            "La raíz aproximada es: 58.474565072771796\n",
            "Iteraciones: 7\n",
            "Tiempo: 0.0041 segundos.\n"
          ]
        }
      ],
      "source": [
        "\n",
        "## Algoritmo voraz basado en el método de Newton Raphson para aproximar raíces del polinomio dado.\n",
        "import time\n",
        "errAbs = 0 # Contador de precisión que debe ser menor a +/-0.0001\n",
        "contIteraciones = 0 # Contador de iteraciones.\n",
        "numero = float(input('Digite cualquier número para comenzar a buscar raíces: '))\n",
        "\n",
        " # Función que recibe como parámetro principal el número digitado por el usuario para buscar la raíz.\n",
        "def raiz (errAbs, contIteraciones, numero):\n",
        "\n",
        "    tic = time.time()       # Inicia la medición de tiempo\n",
        "    while True:\n",
        "        # Función sin derivar evaluada en el punto. \n",
        "        fxi = pow(numero, 5)-59*pow(numero, 4)+35*pow(numero, 3)-250*pow(numero, 2)+numero - 70 \n",
        "        # Función derivada evaluada en el punto.\n",
        "        fxxi = 5*pow(numero, 4)-236*pow(numero, 3)+105*pow(numero, 2)-(500*numero) + 1  \n",
        "        \n",
        "        Xi = numero-(fxi/fxxi)      # Paso recursivo que halla la diferencia con base en un cálculo anterior.\n",
        "        errAbs = abs((Xi - numero)/Xi*100) # Cálculo del error absoluto para compararlo con la resolución exigida de 10^-4.\n",
        "        print('La precisión es:', errAbs)   # Imprime cómo se va reduciendo el error conforme se aproxima.\n",
        "        contIteraciones += 1    \n",
        "        \n",
        "        if (errAbs > 0.0001):   # La ejecución sigue mientras el error supere 10^-4.\n",
        "            numero = numero - (fxi/fxxi)    # Nuevo Xi basado en el cálculo anterior (recursivo).\n",
        "        else:            # Si el error baja de 10^-4 la ejecución termina.\n",
        "            print('La raíz aproximada es:', numero)\n",
        "            print('Iteraciones:', contIteraciones)\n",
        "            break\n",
        "    toc = time.time()       # Finaliza la medición de tiempo\n",
        "    timeTotal = toc-tic\n",
        "    print( f\"Tiempo: {timeTotal:0.4f} segundos.\")\n",
        "\n",
        "raiz (errAbs, contIteraciones, numero)\n"
      ]
    },
    {
      "cell_type": "markdown",
      "source": [
        "## Algoritmo voraz por el método del punto medio (bisección)"
      ],
      "metadata": {
        "id": "V3o3sy8gpqXv"
      }
    },
    {
      "cell_type": "code",
      "source": [
        "\n",
        "def voraz():\n",
        "    inicio = timeit.default_timer()\n",
        "    error = 0.0001                                        #error de y\n",
        "    x0 = -1000\n",
        "    x1 = 1000\n",
        "    y0 = eval(x0)\n",
        "    y1 = eval(x1)\n",
        "    xr = (x0+x1)/2                                        #primer punto medio\n",
        "    yr = eval(xr)                                         #evaluación del primer punto medio\n",
        "    cont = 0\n",
        "    while abs(yr) > error:\n",
        "        if (y0 < 0 and yr < 0) or (y0 > 0 and yr > 0):    #comprobación del cambio de signo\n",
        "            x0 = xr                                       #actualización del rango\n",
        "            y0 = yr\n",
        "        else:\n",
        "            x1 = xr                                       #actualización del rango\n",
        "            y1 = yr\n",
        "        xr = (x0 + x1) / 2                                #nuevo punto medio\n",
        "        yr = eval(xr)\n",
        "        cont += 1                                         #conteo iteraciones\n",
        "    fin = timeit.default_timer()\n",
        "\n",
        "    print(\"Raíz aproximada:\", str(xr))\n",
        "    print(\"f(raíz):\", str(yr))\n",
        "    print(\"Iteraciones:\", str(cont))\n",
        "    print(\"Tiempo:\", fin - inicio, 'segundos')\n"
      ],
      "metadata": {
        "id": "NPkf_ofDpwjV"
      },
      "execution_count": 6,
      "outputs": []
    },
    {
      "cell_type": "code",
      "source": [
        "voraz()"
      ],
      "metadata": {
        "colab": {
          "base_uri": "https://localhost:8080/"
        },
        "id": "O2e3AsyTqX-m",
        "outputId": "70c32195-5e1a-4bea-d1e4-e3ce4c693ddc"
      },
      "execution_count": 7,
      "outputs": [
        {
          "output_type": "stream",
          "name": "stdout",
          "text": [
            "Raíz aproximada: 58.47456506631943\n",
            "f(raíz): 3.0260207495302893e-07\n",
            "Iteraciones: 44\n",
            "Tiempo: 0.00011701400001129514 segundos\n"
          ]
        }
      ]
    }
  ]
}